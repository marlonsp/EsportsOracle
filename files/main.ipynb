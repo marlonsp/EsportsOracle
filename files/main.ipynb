{
 "cells": [
  {
   "cell_type": "markdown",
   "metadata": {},
   "source": [
    "Importando as bibliotecas necessárias"
   ]
  },
  {
   "cell_type": "code",
   "execution_count": null,
   "metadata": {},
   "outputs": [],
   "source": [
    "from selenium import webdriver\n",
    "from selenium.webdriver.common.by import By\n",
    "from selenium.webdriver.common.keys import Keys\n",
    "from selenium.webdriver.chrome.service import Service\n",
    "from selenium.webdriver.common.action_chains import ActionChains\n",
    "from webdriver_manager.chrome import ChromeDriverManager\n",
    "import time\n",
    "import os"
   ]
  },
  {
   "cell_type": "markdown",
   "metadata": {},
   "source": [
    "Extração dos urls das páginas com os vídeos e estatísticas das partidas"
   ]
  },
  {
   "cell_type": "code",
   "execution_count": null,
   "metadata": {},
   "outputs": [],
   "source": [
    "driver = webdriver.Chrome(service=Service(ChromeDriverManager().install()))\n",
    "\n",
    "url = 'https://lolesports.com/pt-BR/vods/cblol-brazil/cblol_split_1_2024'\n",
    "driver.get(url)\n",
    "\n",
    "time.sleep(5)\n",
    "\n",
    "video_url = []\n",
    "\n",
    "base_xpath = '//*[@id=\"vodsRoot\"]/div[2]/div[1]/div[{}]/div/div[2]/div[1]/div[{}]/*'\n",
    "\n",
    "i, j = 2, 1 \n",
    "tentativas = 0  \n",
    "\n",
    "while True:\n",
    "    try:\n",
    "        button_xpath = base_xpath.format(i, j)\n",
    "        button = driver.find_element(By.XPATH, button_xpath)\n",
    "        video_url.append(button.get_attribute('href'))\n",
    "        j += 1\n",
    "        tentativas = 0\n",
    "    except:\n",
    "        if tentativas < 2:\n",
    "            i += 1\n",
    "            j = 1  \n",
    "            tentativas += 1\n",
    "        else:\n",
    "            break\n",
    "\n",
    "# Fecha o navegador\n",
    "driver.quit()"
   ]
  },
  {
   "cell_type": "markdown",
   "metadata": {},
   "source": [
    "Função para extrair o html de cada jogo, percorrendo a lista de urls e salvando o tempo da partida de acordo com a parte do vídeo (early, mid e late game):"
   ]
  },
  {
   "cell_type": "code",
   "execution_count": null,
   "metadata": {},
   "outputs": [],
   "source": [
    "# Get the current working directory\n",
    "current_directory = os.getcwd()\n",
    "\n",
    "driver = webdriver.Chrome()\n",
    "count = 1\n",
    "\n",
    "def get_game_data(driver, count, game_time):\n",
    "        #switch case to game_time (\"early\", \"mid\", \"late\")\n",
    "        if game_time == \"early\":\n",
    "            actions.send_keys(Keys.NUMPAD4).perform()\n",
    "            time.sleep(8)\n",
    "        elif game_time == \"mid\":\n",
    "            actions.send_keys(Keys.NUMPAD6).perform()\n",
    "            time.sleep(8)\n",
    "        elif game_time == \"late\":\n",
    "            actions.send_keys(Keys.NUMPAD9).perform()\n",
    "            time.sleep(8)\n",
    "\n",
    "        #get the htlm of the page\n",
    "        html = driver.page_source\n",
    "\n",
    "        file_name = f\"{game_time}_lolesports_{count}.txt\"\n",
    "        # Obter o diretório do script atual\n",
    "        script_directory = os.path.dirname(os.path.abspath(current_directory))\n",
    "        \n",
    "        # Construir o caminho completo para o arquivo 'lolesports.txt' dentro da pasta 'data/raw'\n",
    "        file_path = os.path.join(script_directory, 'data', 'raw', file_name)\n",
    "        # Garantir que o diretório 'data/raw' exista\n",
    "        os.makedirs(os.path.dirname(file_path), exist_ok=True)\n",
    "        \n",
    "        # Salvar a saída no arquivo\n",
    "        with open(file_path, 'w', encoding='utf-8') as file:\n",
    "            file.write(html)\n",
    "\n",
    "for url in video_url:\n",
    "    try:\n",
    "        driver.get(url)\n",
    "        \n",
    "        actions = ActionChains(driver)\n",
    "\n",
    "        print(\"Waiting for video to load\")\n",
    "        time.sleep(5)\n",
    "        print(\"Video loaded\")\n",
    "\n",
    "        start_button = driver.find_element(By.XPATH, \"//*[@class='attached']\")\n",
    "        start_button.click()\n",
    "\n",
    "        time.sleep(5)\n",
    "\n",
    "        get_game_data(driver, count, \"early\")\n",
    "        get_game_data(driver, count, \"mid\")\n",
    "        get_game_data(driver, count, \"late\")\n",
    "        \n",
    "        count += 1\n",
    "    except Exception as e:\n",
    "        print(e)\n",
    "        \n",
    "print(\"Closing driver\")\n",
    "driver.quit()\n",
    "\n"
   ]
  }
 ],
 "metadata": {
  "kernelspec": {
   "display_name": "Python 3",
   "language": "python",
   "name": "python3"
  },
  "language_info": {
   "codemirror_mode": {
    "name": "ipython",
    "version": 3
   },
   "file_extension": ".py",
   "mimetype": "text/x-python",
   "name": "python",
   "nbconvert_exporter": "python",
   "pygments_lexer": "ipython3",
   "version": "3.10.6"
  }
 },
 "nbformat": 4,
 "nbformat_minor": 2
}
